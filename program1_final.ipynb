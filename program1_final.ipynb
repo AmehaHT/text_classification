{
 "cells": [
  {
   "cell_type": "code",
   "execution_count": 1,
   "id": "cf83dc54",
   "metadata": {},
   "outputs": [],
   "source": [
    "import numpy as np\n",
    "import pandas as pd\n",
    "import scipy.sparse as sp\n",
    "from collections import Counter, defaultdict\n",
    "from scipy.sparse import csr_matrix"
   ]
  },
  {
   "cell_type": "code",
   "execution_count": 2,
   "id": "fbb0b637",
   "metadata": {},
   "outputs": [],
   "source": [
    "train = pd.read_csv('train.dat', sep='\\n', header=None)\n",
    "test = pd.read_csv('test.dat', sep='\\n', header=None)"
   ]
  },
  {
   "cell_type": "code",
   "execution_count": 3,
   "id": "f983f458",
   "metadata": {},
   "outputs": [],
   "source": [
    "train_values = train.iloc[:,:].values\n",
    "test_values = test.iloc[:,:].values"
   ]
  },
  {
   "cell_type": "code",
   "execution_count": 4,
   "id": "3ef89b9b",
   "metadata": {},
   "outputs": [
    {
     "name": "stdout",
     "output_type": "stream",
     "text": [
      "train data length -  14438\n",
      "test data length -  14442\n"
     ]
    }
   ],
   "source": [
    "docs, class_list, test_docs = [], [], []\n",
    "\n",
    "for i in train_values:\n",
    "    class_list.append(i[0][:1])\n",
    "    docs.append(i[0][2:])\n",
    "for i in test_values:\n",
    "    test_docs.append(i[0])\n",
    "    \n",
    "print(\"train data length - \",len(docs))\n",
    "print(\"test data length - \",len(test_docs))"
   ]
  },
  {
   "cell_type": "code",
   "execution_count": 5,
   "id": "2a4d36bd",
   "metadata": {},
   "outputs": [
    {
     "name": "stdout",
     "output_type": "stream",
     "text": [
      "<class 'list'>\n",
      "<class 'numpy.ndarray'>\n"
     ]
    }
   ],
   "source": [
    "class_list1,class_list2,class_list3,class_list4,class_list5 = 0,0,0,0,0\n",
    "test_class_list = [int(i) for i in class_list]\n",
    "for clas in test_class_list:\n",
    "    if clas==1:\n",
    "        class_list1+=1\n",
    "        continue\n",
    "    if clas==2:\n",
    "        class_list2+=1\n",
    "        continue\n",
    "    if clas==3:\n",
    "        class_list3+=1\n",
    "        continue\n",
    "    if clas==4:\n",
    "        class_list4+=1\n",
    "        continue\n",
    "    if clas==5:\n",
    "        class_list5+=1\n",
    "test_class_list = np.asarray(test_class_list)\n",
    "print(type(docs))\n",
    "print(type(test_class_list))\n",
    "docs = [i.split() for i in docs]\n",
    "test_docs = [j.split() for j in test_docs]"
   ]
  },
  {
   "cell_type": "code",
   "execution_count": 6,
   "id": "66976724",
   "metadata": {},
   "outputs": [
    {
     "name": "stdout",
     "output_type": "stream",
     "text": [
      "175 ['catheterization', 'laboratory', 'events', 'hospital', 'outcome', 'with', 'direct', 'angioplasty', 'acute', 'myocardial', 'infarction', 'assess', 'safety', 'direct', 'infarct', 'angioplasty', 'without', 'antecedent', 'thrombolytic', 'therapy']\n",
      "79 ['excision', 'limbal', 'dermoids', 'reviewed', 'clinical', 'files', 'patients', 'undergone', 'excision', 'unilateral', 'epibulbar', 'limbal', 'dermoids', 'preoperatively', 'affected', 'eyes', 'worse', 'visual', 'acuity', 'less']\n"
     ]
    }
   ],
   "source": [
    "def filterLen(docs, minlen):\n",
    "    r\"\"\" filter out terms that are too short. \n",
    "    docs is a list of lists, each inner list is a document represented as a list of words\n",
    "    minlen is the minimum length of the word to keep\n",
    "    \"\"\"\n",
    "    return [ [t for t in d if len(t) >= minlen ] for d in docs ]\n",
    "docs = filterLen(docs, 4)\n",
    "test_docs = filterLen(test_docs, 4)\n",
    "docs1 = []\n",
    "for i in docs:\n",
    "    doc1 = []\n",
    "    for j in i:\n",
    "        docc = ''.join(c for c in j if c.isalnum())\n",
    "        doc1.append(docc.lower())\n",
    "    docs1.append(doc1)\n",
    "docs = docs1\n",
    "docs1 = []\n",
    "for i in test_docs:\n",
    "    doc1 = []\n",
    "    for j in i:\n",
    "        docc = ''.join(c for c in j if c.isalnum())\n",
    "        doc1.append(docc.lower())\n",
    "    docs1.append(doc1)\n",
    "test_docs = docs1\n",
    "print(len(docs[0]), docs[0][:20])\n",
    "print(len(test_docs[0]), test_docs[0][:20])"
   ]
  },
  {
   "cell_type": "code",
   "execution_count": 7,
   "id": "b87bed4a",
   "metadata": {},
   "outputs": [],
   "source": [
    "def cmer(name, c=3):\n",
    "    r\"\"\" Given a name and parameter c, return the vector of c-mers associated with the name\n",
    "    \"\"\"\n",
    "    name = name.lower()\n",
    "    if len(name) < c:\n",
    "        return [name]\n",
    "    v = []\n",
    "    for i in range(len(name)-c+1):\n",
    "        v.append(name[i:(i+c)])\n",
    "    return v"
   ]
  },
  {
   "cell_type": "code",
   "execution_count": 8,
   "id": "a3660b1f",
   "metadata": {},
   "outputs": [
    {
     "name": "stderr",
     "output_type": "stream",
     "text": [
      "/var/folders/sn/jv8q19ts7p1cd4qlt53d6w800000gn/T/ipykernel_23882/674298888.py:18: DeprecationWarning: `np.int` is a deprecated alias for the builtin `int`. To silence this warning, use `int` by itself. Doing this will not modify any behavior and is safe. When replacing `np.int`, you may wish to use e.g. `np.int64` or `np.int32` to specify the precision. If you wish to review your current use, check the release note link for additional information.\n",
      "Deprecated in NumPy 1.20; for more details and guidance: https://numpy.org/devdocs/release/1.20.0-notes.html#deprecations\n",
      "  ind = np.zeros(nnz, dtype=np.int)\n",
      "/var/folders/sn/jv8q19ts7p1cd4qlt53d6w800000gn/T/ipykernel_23882/674298888.py:20: DeprecationWarning: `np.int` is a deprecated alias for the builtin `int`. To silence this warning, use `int` by itself. Doing this will not modify any behavior and is safe. When replacing `np.int`, you may wish to use e.g. `np.int64` or `np.int32` to specify the precision. If you wish to review your current use, check the release note link for additional information.\n",
      "Deprecated in NumPy 1.20; for more details and guidance: https://numpy.org/devdocs/release/1.20.0-notes.html#deprecations\n",
      "  ptr = np.zeros(nrows+1, dtype=np.int)\n"
     ]
    },
    {
     "name": "stdout",
     "output_type": "stream",
     "text": [
      " [nrows 14438 (14438 non-empty), ncols 50984 (50984 non-empty), nnz 1132488]\n"
     ]
    }
   ],
   "source": [
    "def build_matrix(docs):\n",
    "    r\"\"\" Build sparse matrix from a list of documents, \n",
    "    each of which is a list of word/terms in the document.  \n",
    "    \"\"\"\n",
    "    nrows = len(docs)\n",
    "    idx = {}\n",
    "    tid = 0\n",
    "    nnz = 0\n",
    "    for d in docs:\n",
    "        nnz += len(set(d))\n",
    "        for w in d:\n",
    "            if w not in idx:\n",
    "                idx[w] = tid\n",
    "                tid += 1\n",
    "    ncols = len(idx)\n",
    "        \n",
    "    # set up memory\n",
    "    ind = np.zeros(nnz, dtype=np.int)\n",
    "    val = np.zeros(nnz, dtype=np.double)\n",
    "    ptr = np.zeros(nrows+1, dtype=np.int)\n",
    "    i = 0  # document ID / row counter\n",
    "    n = 0  # non-zero counter\n",
    "    # transfer values\n",
    "    for d in docs:\n",
    "        cnt = Counter(d)\n",
    "        keys = list(k for k,_ in cnt.most_common())\n",
    "        l = len(keys)\n",
    "        for j,k in enumerate(keys):\n",
    "            ind[j+n] = idx[k]\n",
    "            val[j+n] = cnt[k]\n",
    "        ptr[i+1] = ptr[i] + l\n",
    "        n += l\n",
    "        i += 1\n",
    "            \n",
    "    mat = csr_matrix((val, ind, ptr), shape=(nrows, ncols), dtype=np.double)\n",
    "    mat.sort_indices()\n",
    "    \n",
    "    return mat, idx\n",
    "\n",
    "def csr_info(mat, name=\"\", non_empy=False):\n",
    "    r\"\"\" Print out info about this CSR matrix. If non_empy, \n",
    "    report number of non-empty rows and cols as well\n",
    "    \"\"\"\n",
    "    if non_empy:\n",
    "        print(\"%s [nrows %d (%d non-empty), ncols %d (%d non-empty), nnz %d]\" % (\n",
    "                name, mat.shape[0], \n",
    "                sum(1 if mat.indptr[i+1] > mat.indptr[i] else 0 \n",
    "                for i in range(mat.shape[0])), \n",
    "                mat.shape[1], len(np.unique(mat.indices)), \n",
    "                len(mat.data)))\n",
    "    else:\n",
    "        print( \"%s [nrows %d, ncols %d, nnz %d]\" % (name, \n",
    "                mat.shape[0], mat.shape[1], len(mat.data)) )\n",
    "\n",
    "train_mat, idx = build_matrix(docs)\n",
    "csr_info(train_mat,non_empy=True)\n",
    "\n"
   ]
  },
  {
   "cell_type": "code",
   "execution_count": 9,
   "id": "cc068576",
   "metadata": {},
   "outputs": [
    {
     "name": "stderr",
     "output_type": "stream",
     "text": [
      "/var/folders/sn/jv8q19ts7p1cd4qlt53d6w800000gn/T/ipykernel_23882/4160708262.py:14: DeprecationWarning: `np.int` is a deprecated alias for the builtin `int`. To silence this warning, use `int` by itself. Doing this will not modify any behavior and is safe. When replacing `np.int`, you may wish to use e.g. `np.int64` or `np.int32` to specify the precision. If you wish to review your current use, check the release note link for additional information.\n",
      "Deprecated in NumPy 1.20; for more details and guidance: https://numpy.org/devdocs/release/1.20.0-notes.html#deprecations\n",
      "  ind = np.zeros(nnz, dtype=np.int)\n",
      "/var/folders/sn/jv8q19ts7p1cd4qlt53d6w800000gn/T/ipykernel_23882/4160708262.py:16: DeprecationWarning: `np.int` is a deprecated alias for the builtin `int`. To silence this warning, use `int` by itself. Doing this will not modify any behavior and is safe. When replacing `np.int`, you may wish to use e.g. `np.int64` or `np.int32` to specify the precision. If you wish to review your current use, check the release note link for additional information.\n",
      "Deprecated in NumPy 1.20; for more details and guidance: https://numpy.org/devdocs/release/1.20.0-notes.html#deprecations\n",
      "  ptr = np.zeros(nrows+1, dtype=np.int)\n"
     ]
    },
    {
     "name": "stdout",
     "output_type": "stream",
     "text": [
      " [nrows 14442 (14442 non-empty), ncols 50984 (28623 non-empty), nnz 1153688]\n"
     ]
    }
   ],
   "source": [
    "def build_test_matrix(docs,idx):\n",
    "    r\"\"\" Build sparse matrix from a list of documents, \n",
    "    each of which is a list of word/terms in the document.  \n",
    "    \"\"\"\n",
    "    nrows = len(docs)\n",
    "\n",
    "    tid = 0\n",
    "    nnz = 0\n",
    "    for d in docs:\n",
    "        nnz += len(set(d))\n",
    "    ncols = len(idx)\n",
    "        \n",
    "    # set up memory\n",
    "    ind = np.zeros(nnz, dtype=np.int)\n",
    "    val = np.zeros(nnz, dtype=np.double)\n",
    "    ptr = np.zeros(nrows+1, dtype=np.int)\n",
    "    i = 0  # document ID / row counter\n",
    "    n = 0  # non-zero counter\n",
    "    # transfer values\n",
    "    for d in docs:\n",
    "        cnt = Counter(d)\n",
    "        keys = list(k for k,_ in cnt.most_common())\n",
    "        l = len(keys)\n",
    "        for j,k in enumerate(keys):\n",
    "            temp = idx.get(k,-1)\n",
    "            if temp != -1:\n",
    "                ind[j+n] = temp\n",
    "                val[j+n] = cnt[k]\n",
    "        ptr[i+1] = ptr[i] + l\n",
    "        n += l\n",
    "        i += 1\n",
    "            \n",
    "    mat = csr_matrix((val, ind, ptr), shape=(nrows, ncols), dtype=np.double)\n",
    "    mat.sort_indices()\n",
    "    \n",
    "    return mat\n",
    "test_mat = build_test_matrix(test_docs,idx)\n",
    "csr_info(test_mat,non_empy=True)\n",
    "\n",
    "def csr_idf(mat, copy=False, **kargs):\n",
    "    r\"\"\" Scale a CSR matrix by idf. \n",
    "    Returns scaling factors as dict. If copy is True, \n",
    "    returns scaled matrix and scaling factors.\n",
    "    \"\"\"\n",
    "    if copy is True:\n",
    "        mat = mat.copy()\n",
    "    nrows = mat.shape[0]\n",
    "    nnz = mat.nnz\n",
    "    ind, val, ptr = mat.indices, mat.data, mat.indptr\n",
    "    # document frequency\n",
    "    df = defaultdict(int)\n",
    "    for i in ind:\n",
    "        df[i] += 1\n",
    "    # inverse document frequency\n",
    "    for k,v in df.items():\n",
    "        df[k] = np.log(nrows / float(v))  ## df turns to idf - reusing memory\n",
    "    # scale by idf\n",
    "    for i in range(0, nnz):\n",
    "        val[i] *= df[ind[i]]\n",
    "        \n",
    "    return df if copy is False else mat\n",
    "\n",
    "def csr_l2normalize(mat, copy=False, **kargs):\n",
    "    r\"\"\" Normalize the rows of a CSR matrix by their L-2 norm. \n",
    "    If copy is True, returns a copy of the normalized matrix.\n",
    "    \"\"\"\n",
    "    if copy is True:\n",
    "        mat = mat.copy()\n",
    "    nrows = mat.shape[0]\n",
    "    nnz = mat.nnz\n",
    "    ind, val, ptr = mat.indices, mat.data, mat.indptr\n",
    "    # normalize\n",
    "    for i in range(nrows):\n",
    "        rsum = 0.0    \n",
    "        for j in range(ptr[i], ptr[i+1]):\n",
    "            rsum += val[j]**2\n",
    "        if rsum == 0.0:\n",
    "            continue  # do not normalize empty rows\n",
    "        rsum = 1.0/np.sqrt(rsum)\n",
    "        for j in range(ptr[i], ptr[i+1]):\n",
    "            val[j] *= rsum   \n",
    "    if copy is True:\n",
    "        return mat"
   ]
  },
  {
   "cell_type": "code",
   "execution_count": 10,
   "id": "c5f618c6",
   "metadata": {},
   "outputs": [
    {
     "name": "stdout",
     "output_type": "stream",
     "text": [
      "train_mat2: [[0.         0.         0.         0.         0.         0.00717046\n",
      "  0.         0.         0.         0.         0.         0.\n",
      "  0.         0.         0.         0.         0.         0.03464385\n",
      "  0.02330707 0.        ]] \n",
      "\n",
      "(14438, 50984)\n"
     ]
    }
   ],
   "source": [
    "train_mat1 = csr_idf(train_mat, copy=True)\n",
    "train_mat2 = csr_l2normalize(train_mat1, copy=True)\n",
    "print(\"train_mat2:\", train_mat2[15,:20].todense(),\"\\n\")\n",
    "print(train_mat2.shape)"
   ]
  },
  {
   "cell_type": "code",
   "execution_count": 11,
   "id": "30458776",
   "metadata": {},
   "outputs": [
    {
     "name": "stdout",
     "output_type": "stream",
     "text": [
      "test_mat2: [[0.         0.         0.         0.         0.         0.01340504\n",
      "  0.         0.         0.         0.         0.         0.\n",
      "  0.         0.         0.         0.         0.         0.07495871\n",
      "  0.00842371 0.        ]] \n",
      "\n",
      "(14442, 50984)\n"
     ]
    }
   ],
   "source": [
    "test_mat1 = csr_idf(test_mat, copy=True)\n",
    "test_mat2 = csr_l2normalize(test_mat1, copy=True)\n",
    "print(\"test_mat2:\", test_mat2[15,:20].todense(),\"\\n\")\n",
    "print(test_mat2.shape)"
   ]
  },
  {
   "cell_type": "code",
   "execution_count": 12,
   "id": "5967ed1e",
   "metadata": {},
   "outputs": [],
   "source": [
    "from sklearn.neighbors import KNeighborsClassifier\n",
    "\n",
    "classifier = KNeighborsClassifier(n_neighbors = 30)\n",
    "classifier.fit(train_mat2, test_class_list)\n",
    "predicted = classifier.predict(test_mat2)\n"
   ]
  },
  {
   "cell_type": "code",
   "execution_count": 13,
   "id": "ee149c04",
   "metadata": {},
   "outputs": [],
   "source": [
    "with open('final_prediction_f.dat','w+') as file:\n",
    "    for p in predicted:\n",
    "        file.write(str(p)+\"\\n\")"
   ]
  }
 ],
 "metadata": {
  "kernelspec": {
   "display_name": "Python 3 (ipykernel)",
   "language": "python",
   "name": "python3"
  },
  "language_info": {
   "codemirror_mode": {
    "name": "ipython",
    "version": 3
   },
   "file_extension": ".py",
   "mimetype": "text/x-python",
   "name": "python",
   "nbconvert_exporter": "python",
   "pygments_lexer": "ipython3",
   "version": "3.9.7"
  }
 },
 "nbformat": 4,
 "nbformat_minor": 5
}
